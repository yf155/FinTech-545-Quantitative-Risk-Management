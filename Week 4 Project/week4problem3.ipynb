{
 "cells": [
  {
   "cell_type": "markdown",
   "id": "advisory-exhibition",
   "metadata": {},
   "source": [
    "Problem 3"
   ]
  },
  {
   "cell_type": "code",
   "execution_count": 1,
   "id": "sharing-drunk",
   "metadata": {},
   "outputs": [],
   "source": [
    "import pandas as pd\n",
    "import numpy as np\n",
    "import matplotlib.pyplot as plt\n",
    "import seaborn as sns\n",
    "from scipy.stats import norm, t\n",
    "from statsmodels.tsa.arima.model import ARIMA\n",
    "from scipy.optimize import minimize"
   ]
  },
  {
   "cell_type": "code",
   "execution_count": 19,
   "id": "protective-conducting",
   "metadata": {},
   "outputs": [],
   "source": [
    "# Implement return_calculate\n",
    "def return_calculate(prices, method=\"DISCRETE\", dateColumn=\"Date\"):\n",
    "    vars_ = prices.columns\n",
    "    nVars = len(vars_)\n",
    "    vars_ = [var for var in vars_ if var != dateColumn]\n",
    "    if nVars == len(vars_):\n",
    "        raise ValueError(f\"dateColumn: {dateColumn} not in DataFrame: {vars_}\")\n",
    "    nVars = nVars - 1\n",
    "    p = prices[vars_].to_numpy()\n",
    "    n, m = p.shape\n",
    "    p2 = np.empty((n-1, m))\n",
    "    for i in range(n-1):\n",
    "        for j in range(m):\n",
    "            p2[i, j] = p[i+1, j] / p[i, j]\n",
    "    if method.upper() == \"DISCRETE\":\n",
    "        p2 = p2 - 1.0\n",
    "    elif method.upper() == \"LOG\":\n",
    "        p2 = np.log(p2)\n",
    "    else:\n",
    "        raise ValueError(f\"method: {method} must be in (\\\"LOG\\\",\\\"DISCRETE\\\")\")\n",
    "    dates = prices[dateColumn].iloc[1:n].to_numpy()\n",
    "    out = pd.DataFrame({dateColumn: dates})\n",
    "    for i in range(nVars):\n",
    "        out[vars_[i]] = p2[:, i]\n",
    "    return out"
   ]
  },
  {
   "cell_type": "code",
   "execution_count": 20,
   "id": "floating-bubble",
   "metadata": {},
   "outputs": [],
   "source": [
    "# Import data, get the price for each asset in portfolio and calculate the current price\n",
    "portfolio = pd.read_csv(\"portfolio.csv\")\n",
    "prices = pd.read_csv(\"DailyPrices.csv\")\n",
    "def get_portfolio_price(portfolio, prices, portfolio_name, Delta=False):\n",
    "    if portfolio_name == \"All\":\n",
    "        assets = portfolio.drop('Portfolio',axis=1)\n",
    "        assets = assets.groupby([\"Stock\"], as_index=False)[\"Holding\"].sum()\n",
    "    else:\n",
    "        assets = portfolio[portfolio[\"Portfolio\"] == portfolio_name]     \n",
    "    stock_codes = list(assets[\"Stock\"])\n",
    "    assets_prices = pd.concat([prices[\"Date\"], prices[stock_codes]], axis=1) \n",
    "    current_price = np.dot(prices[assets[\"Stock\"]].tail(1), assets[\"Holding\"])\n",
    "    holdings = assets[\"Holding\"]   \n",
    "    if Delta == True:\n",
    "        asset_values = assets[\"Holding\"].values.reshape(-1, 1) * prices[assets[\"Stock\"]].tail(1).T.values\n",
    "        delta = asset_values / current_price       \n",
    "        return current_price, assets_prices, delta   \n",
    "    return current_price, assets_prices, holdings"
   ]
  },
  {
   "cell_type": "code",
   "execution_count": 21,
   "id": "nonprofit-jewel",
   "metadata": {},
   "outputs": [],
   "source": [
    "# Using exponentially weighted covariance with lambda=0.97\n",
    "def exp_weighted_cov(returns, lambda_=0.97):\n",
    "    returns = returns.values\n",
    "    mean_return = np.mean(returns, axis=0)\n",
    "    normalized_returns = returns - mean_return\n",
    "\n",
    "    n_timesteps = normalized_returns.shape[0]\n",
    "    cov = np.cov(returns, rowvar=False)\n",
    "\n",
    "    for t in range(1, n_timesteps):\n",
    "        cov = lambda_ * cov + (1 - lambda_) * np.outer(normalized_returns[t], normalized_returns[t])\n",
    "    return cov"
   ]
  },
  {
   "cell_type": "code",
   "execution_count": 22,
   "id": "invalid-russian",
   "metadata": {},
   "outputs": [],
   "source": [
    "# Calculate with Delta Normal\n",
    "def calculate_delta_var(portfolio, prices, alpha=0.05, lambda_=0.94, portfolio_name=\"All\"):\n",
    "    current_price, assets_prices, delta = get_portfolio_price(portfolio, prices, portfolio_name, Delta=True)\n",
    "    returns = return_calculate(assets_prices).drop('Date', axis=1)\n",
    "    assets_cov = exp_weighted_cov(returns, lambda_)\n",
    "    p_sig = np.sqrt(np.transpose(delta) @ assets_cov @ delta)\n",
    "    var_delta = -current_price * norm.ppf(alpha) * p_sig\n",
    "    return current_price[0], var_delta[0][0]"
   ]
  },
  {
   "cell_type": "code",
   "execution_count": 23,
   "id": "mounted-toddler",
   "metadata": {},
   "outputs": [],
   "source": [
    "# Calculate with historical simulation\n",
    "def calculate_historic_var(portfolio, prices, alpha=0.05,n_simulation=1000, portfolio_name=\"All\"):\n",
    "    current_price, assets_prices, holdings = get_portfolio_price(portfolio, prices, portfolio_name)  \n",
    "    returns = return_calculate(assets_prices).drop(\"Date\", axis=1)    \n",
    "    assets_prices = assets_prices.drop('Date',axis=1)\n",
    "    sim_returns = returns.sample(n_simulation, replace=True)\n",
    "    sim_prices = np.dot(sim_returns* assets_prices.tail(1).values.reshape(assets_prices.shape[1],),holdings)   \n",
    "    var_hist = -np.percentile(sim_prices, alpha*100) \n",
    "    return current_price[0], var_hist, sim_prices"
   ]
  },
  {
   "cell_type": "code",
   "execution_count": 37,
   "id": "catholic-bidding",
   "metadata": {},
   "outputs": [
    {
     "name": "stdout",
     "output_type": "stream",
     "text": [
      "The current value for A is: 299950.06\n",
      "VaR for A using Delta Normal is: 5670.20\n",
      "VaR for A using Historic Simulation is: 7109.30\n",
      "\n"
     ]
    }
   ],
   "source": [
    "# Print the results\n",
    "current_price, delta_var = calculate_delta_var(portfolio, prices, portfolio_name='A')\n",
    "current_price, hist_var, hist_sim_prices = calculate_historic_var(portfolio, prices, portfolio_name='A')\n",
    "print(\"The current value for A is: {:.2f}\".format(current_price))\n",
    "print(\"VaR for A using Delta Normal is: {:.2f}\".format(delta_var))\n",
    "print(\"VaR for A using Historic Simulation is: {:.2f}\\n\".format(hist_var))"
   ]
  },
  {
   "cell_type": "code",
   "execution_count": 38,
   "id": "annual-pioneer",
   "metadata": {},
   "outputs": [
    {
     "name": "stdout",
     "output_type": "stream",
     "text": [
      "The current value for B is: 294385.59\n",
      "VaR for B using Delta Normal is: 4494.60\n",
      "VaR for B using Historic Simulation is: 7273.77\n",
      "\n"
     ]
    }
   ],
   "source": [
    "current_price, delta_var = calculate_delta_var(portfolio, prices, portfolio_name='B')\n",
    "current_price, hist_var, hist_sim_prices = calculate_historic_var(portfolio, prices, portfolio_name='B')\n",
    "print(\"The current value for B is: {:.2f}\".format(current_price))\n",
    "print(\"VaR for B using Delta Normal is: {:.2f}\".format(delta_var))\n",
    "print(\"VaR for B using Historic Simulation is: {:.2f}\\n\".format(hist_var))"
   ]
  },
  {
   "cell_type": "code",
   "execution_count": 39,
   "id": "processed-miami",
   "metadata": {},
   "outputs": [
    {
     "name": "stdout",
     "output_type": "stream",
     "text": [
      "The current value for C is: 270042.83\n",
      "VaR for C using Delta Normal is: 3786.59\n",
      "VaR for C using Historic Simulation is: 5310.07\n",
      "\n"
     ]
    }
   ],
   "source": [
    "current_price, delta_var = calculate_delta_var(portfolio, prices, portfolio_name='C')\n",
    "current_price, hist_var, hist_sim_prices = calculate_historic_var(portfolio, prices, portfolio_name='C')\n",
    "print(\"The current value for C is: {:.2f}\".format(current_price))\n",
    "print(\"VaR for C using Delta Normal is: {:.2f}\".format(delta_var))\n",
    "print(\"VaR for C using Historic Simulation is: {:.2f}\\n\".format(hist_var))"
   ]
  },
  {
   "cell_type": "code",
   "execution_count": null,
   "id": "gentle-relaxation",
   "metadata": {},
   "outputs": [],
   "source": []
  }
 ],
 "metadata": {
  "kernelspec": {
   "display_name": "Python 3",
   "language": "python",
   "name": "python3"
  },
  "language_info": {
   "codemirror_mode": {
    "name": "ipython",
    "version": 3
   },
   "file_extension": ".py",
   "mimetype": "text/x-python",
   "name": "python",
   "nbconvert_exporter": "python",
   "pygments_lexer": "ipython3",
   "version": "3.9.1"
  }
 },
 "nbformat": 4,
 "nbformat_minor": 5
}
