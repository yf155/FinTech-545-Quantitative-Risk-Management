{
 "cells": [
  {
   "cell_type": "markdown",
   "id": "lonely-worst",
   "metadata": {},
   "source": [
    "Problem 2"
   ]
  },
  {
   "cell_type": "code",
   "execution_count": 15,
   "id": "novel-wyoming",
   "metadata": {},
   "outputs": [],
   "source": [
    "import pandas as pd\n",
    "import numpy as np\n",
    "import matplotlib.pyplot as plt\n",
    "import seaborn as sns\n",
    "from scipy.stats import norm, t\n",
    "from statsmodels.tsa.arima.model import ARIMA\n",
    "from scipy.optimize import minimize\n",
    "import statsmodels.api as sm"
   ]
  },
  {
   "cell_type": "code",
   "execution_count": 2,
   "id": "endangered-music",
   "metadata": {},
   "outputs": [],
   "source": [
    "# Implement return_calculate()\n",
    "def return_calculate(prices: pd.DataFrame, method: str = \"DISCRETE\", dateColumn: str = \"date\") -> pd.DataFrame:\n",
    "    vars = list(prices.columns)\n",
    "    nVars = len(vars)\n",
    "    vars.remove(dateColumn)\n",
    "    vars = list(map(str, vars))\n",
    "    if nVars == len(vars):\n",
    "        raise ValueError(\"dateColumn: \" + dateColumn + \" not in DataFrame: \" + str(vars))\n",
    "    nVars -= 1\n",
    "\n",
    "    p = prices[vars].values\n",
    "    n, m = p.shape\n",
    "    p2 = np.empty((n-1, m), dtype=np.float64)\n",
    "\n",
    "    for i in range(n-1):\n",
    "        for j in range(m):\n",
    "            p2[i,j] = p[i+1,j] / p[i,j]\n",
    "\n",
    "    if method.upper() == \"DISCRETE\":\n",
    "        p2 -= 1.0\n",
    "    elif method.upper() == \"LOG\":\n",
    "        p2 = np.log(p2)\n",
    "    else:\n",
    "        raise ValueError(\"method: \" + method + \" must be in (\\\"LOG\\\",\\\"DISCRETE\\\")\")\n",
    "\n",
    "    dates = prices[dateColumn].iloc[1:].reset_index(drop=True)\n",
    "    out = pd.DataFrame({dateColumn: dates})\n",
    "    for i in range(nVars):\n",
    "        out[vars[i]] = p2[:,i]\n",
    "    return out"
   ]
  },
  {
   "cell_type": "code",
   "execution_count": 4,
   "id": "innocent-commonwealth",
   "metadata": {},
   "outputs": [],
   "source": [
    "# Import data\n",
    "data = pd.read_csv(\"DailyPrices.csv\", index_col=0)"
   ]
  },
  {
   "cell_type": "code",
   "execution_count": 5,
   "id": "adaptive-entrepreneur",
   "metadata": {},
   "outputs": [],
   "source": [
    "# Calculate arithmetic returns\n",
    "returns = data.pct_change().dropna()"
   ]
  },
  {
   "cell_type": "code",
   "execution_count": 8,
   "id": "fitted-emphasis",
   "metadata": {},
   "outputs": [],
   "source": [
    "# Break the returns for META into 2 groups, a modeling group and a holdout sample\n",
    "meta_returns = returns[\"META\"]\n",
    "meta_modeling_returns = meta_returns[:-60]\n",
    "meta_holdout_returns = meta_returns[-60:]"
   ]
  },
  {
   "cell_type": "code",
   "execution_count": 10,
   "id": "superb-newspaper",
   "metadata": {},
   "outputs": [],
   "source": [
    "# Remove mean from META series\n",
    "meta_modeling_returns -= meta_modeling_returns.mean()"
   ]
  },
  {
   "cell_type": "code",
   "execution_count": 11,
   "id": "italic-review",
   "metadata": {},
   "outputs": [
    {
     "name": "stdout",
     "output_type": "stream",
     "text": [
      "VaR for normal distribution is 0.06616401296978026\n"
     ]
    }
   ],
   "source": [
    "# Calculate VaR using normal distribution\n",
    "alpha = 0.05\n",
    "n = 10000\n",
    "sigma = meta_modeling_returns.std()\n",
    "r = np.random.normal(0, sigma, n)\n",
    "VaR = -np.quantile(r, alpha)\n",
    "\n",
    "print(\"VaR for normal distribution is\",VaR)"
   ]
  },
  {
   "cell_type": "code",
   "execution_count": 12,
   "id": "played-making",
   "metadata": {},
   "outputs": [
    {
     "name": "stdout",
     "output_type": "stream",
     "text": [
      "VaR for normal distribution with exponentially weighted variance is: 0.0970295881134886\n"
     ]
    }
   ],
   "source": [
    "# Calculate VaR using normal distribution with an Exponentially Weighted variance (lambda = 0.94)\n",
    "l = 0.94\n",
    "tw = 0\n",
    "m = len(meta_modeling_returns)\n",
    "w = np.zeros(m)\n",
    "for i in range(m):\n",
    "    w[i] = (1 - l) * l ** (m - i - 1)\n",
    "    tw += w[i]\n",
    "for i in range(m):\n",
    "    w[i] = w[i] / tw\n",
    "\n",
    "sigma_ew = np.sqrt((meta_modeling_returns * w).T @ meta_modeling_returns)\n",
    "r_ew = np.random.normal(0, sigma_ew, n)\n",
    "VaR_ew = -np.quantile(r_ew, alpha)\n",
    "\n",
    "print(\"VaR for normal distribution with exponentially weighted variance is:\", VaR_ew)"
   ]
  },
  {
   "cell_type": "code",
   "execution_count": 13,
   "id": "african-waterproof",
   "metadata": {},
   "outputs": [
    {
     "name": "stdout",
     "output_type": "stream",
     "text": [
      "VaR for MLE fitted T Distribution is: 0.05949624391371723\n"
     ]
    }
   ],
   "source": [
    "# Calculate VaR using MLE fitted T distribution\n",
    "returns = meta_modeling_returns\n",
    "negLL = lambda params, returns: -1 * np.sum(t.logpdf(returns, df=params[0], loc=params[1], scale=params[2]))\n",
    "\n",
    "constraints = ({\"type\": \"ineq\", \"fun\": lambda x: x[0] - 1},\n",
    "               {\"type\": \"ineq\", \"fun\": lambda x: x[2]})\n",
    "\n",
    "returns_t = minimize(negLL, x0=[10, np.mean(returns), np.std(returns)], args=returns, constraints=constraints)\n",
    "df, loc, scale = returns_t.x[0], returns_t.x[1], returns_t.x[2]\n",
    "sim_returns = t.rvs(df, loc=loc, scale=scale, size=n)\n",
    "VaR_t = -np.percentile(sim_returns, alpha*100)\n",
    "\n",
    "print(\"VaR for MLE fitted T Distribution is:\", VaR_t)"
   ]
  },
  {
   "cell_type": "code",
   "execution_count": 18,
   "id": "fixed-theater",
   "metadata": {},
   "outputs": [
    {
     "name": "stderr",
     "output_type": "stream",
     "text": [
      "c:\\program files\\python39\\lib\\site-packages\\statsmodels\\tsa\\base\\tsa_model.py:471: ValueWarning: A date index has been provided, but it has no associated frequency information and so will be ignored when e.g. forecasting.\n",
      "  self._init_dates(dates, freq)\n",
      "c:\\program files\\python39\\lib\\site-packages\\statsmodels\\tsa\\base\\tsa_model.py:471: ValueWarning: A date index has been provided, but it has no associated frequency information and so will be ignored when e.g. forecasting.\n",
      "  self._init_dates(dates, freq)\n",
      "c:\\program files\\python39\\lib\\site-packages\\statsmodels\\tsa\\base\\tsa_model.py:471: ValueWarning: A date index has been provided, but it has no associated frequency information and so will be ignored when e.g. forecasting.\n",
      "  self._init_dates(dates, freq)\n"
     ]
    },
    {
     "name": "stdout",
     "output_type": "stream",
     "text": [
      "VAR for fitted AR(1) is: 0.06500907772777474\n"
     ]
    }
   ],
   "source": [
    "# Calculate VaR using fitted AR(1) model\n",
    "ar1_fit = sm.tsa.arima.ARIMA(meta_modeling_returns, order=(1, 0, 0))\n",
    "con,beta,s= ar1_fit.fit().params[0],ar1_fit.fit().params[1],np.sqrt(ar1_fit.fit().params[2])\n",
    "esim = np.random.normal(0,s,n)\n",
    "r = np.zeros(n)\n",
    "for i in range(n):\n",
    "    r[i]=con+meta_modeling_returns.iloc[-1]*beta+esim[i]\n",
    "VaR = -np.quantile(r,alpha)\n",
    "\n",
    "print(\"VAR for fitted AR(1) is: {}\".format(VaR))"
   ]
  },
  {
   "cell_type": "code",
   "execution_count": 20,
   "id": "closing-jungle",
   "metadata": {},
   "outputs": [
    {
     "name": "stdout",
     "output_type": "stream",
     "text": [
      "VAR for Historic Simulation is: 0.05895278422859425\n"
     ]
    }
   ],
   "source": [
    "# Calculate VaR using historic simulation\n",
    "rsim = np.random.choice(meta_modeling_returns,n)\n",
    "VaR = -np.quantile(rsim,alpha)\n",
    "\n",
    "print(\"VAR for Historic Simulation is: {}\".format(VaR))"
   ]
  },
  {
   "cell_type": "code",
   "execution_count": null,
   "id": "capable-vegetable",
   "metadata": {},
   "outputs": [],
   "source": []
  }
 ],
 "metadata": {
  "kernelspec": {
   "display_name": "Python 3",
   "language": "python",
   "name": "python3"
  },
  "language_info": {
   "codemirror_mode": {
    "name": "ipython",
    "version": 3
   },
   "file_extension": ".py",
   "mimetype": "text/x-python",
   "name": "python",
   "nbconvert_exporter": "python",
   "pygments_lexer": "ipython3",
   "version": "3.9.1"
  }
 },
 "nbformat": 4,
 "nbformat_minor": 5
}
