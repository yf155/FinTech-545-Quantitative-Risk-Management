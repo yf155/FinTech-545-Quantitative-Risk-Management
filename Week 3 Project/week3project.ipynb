{
 "cells": [
  {
   "cell_type": "markdown",
   "id": "distributed-sunglasses",
   "metadata": {},
   "source": [
    "Week 3 Project"
   ]
  },
  {
   "cell_type": "code",
   "execution_count": 5,
   "id": "invalid-wholesale",
   "metadata": {},
   "outputs": [],
   "source": [
    "import numpy as np\n",
    "import pandas as pd\n",
    "import scipy as sp\n",
    "from scipy import linalg\n",
    "import time\n",
    "import matplotlib.pyplot as plt"
   ]
  },
  {
   "cell_type": "markdown",
   "id": "fatal-mineral",
   "metadata": {},
   "source": [
    "Problem 1"
   ]
  },
  {
   "cell_type": "code",
   "execution_count": 6,
   "id": "color-istanbul",
   "metadata": {},
   "outputs": [],
   "source": [
    "def exponentially_weighted_covariance_matrix(returns, lam):\n",
    "    n, m = returns.shape\n",
    "    weights = np.zeros((n, m))\n",
    "    weights[0, :] = 1\n",
    "    for i in range(1, n):\n",
    "        weights[i, :] = weights[i-1, :] * lam\n",
    "    weighted_returns = np.multiply(returns, weights)\n",
    "    cov_matrix = np.cov(weighted_returns, rowvar=False)\n",
    "    return cov_matrix"
   ]
  },
  {
   "cell_type": "code",
   "execution_count": 7,
   "id": "virtual-vehicle",
   "metadata": {},
   "outputs": [],
   "source": [
    "def plot_cumulative_variance(returns, lams):\n",
    "    fig, ax = plt.subplots(figsize=(8, 6))\n",
    "    for lam in lams:\n",
    "        cov_matrix = exponentially_weighted_covariance_matrix(returns, lam)\n",
    "        eigenvalues, eigenvectors = np.linalg.eig(cov_matrix)\n",
    "        eigenvalues = np.real(eigenvalues)\n",
    "        sorted_indices = np.argsort(eigenvalues)[::-1]\n",
    "        eigenvalues = eigenvalues[sorted_indices]\n",
    "        explained_variance = np.cumsum(eigenvalues) / np.sum(eigenvalues)\n",
    "        ax.plot(explained_variance, label=f\"lambda={lam}\")\n",
    "    ax.legend()\n",
    "    ax.set_xlabel(\"Number of Principal Components\")\n",
    "    ax.set_ylabel(\"Cumulative Variance Explained\")\n",
    "    plt.show()"
   ]
  },
  {
   "cell_type": "code",
   "execution_count": 8,
   "id": "sonic-punishment",
   "metadata": {},
   "outputs": [
    {
     "data": {
      "image/png": "[encoded data removed]",
      "text/plain": [
       "<Figure size 576x432 with 1 Axes>"
      ]
     },
     "metadata": {
      "needs_background": "light"
     },
     "output_type": "display_data"
    }
   ],
   "source": [
    "returns = pd.read_csv(\"DailyReturn.csv\").iloc[:, 1:].values\n",
    "lams = [0.5, 0.7, 0.9, 0.97, 0.999]\n",
    "plot_cumulative_variance(returns, lams)"
   ]
  },
  {
   "cell_type": "markdown",
   "id": "municipal-dover",
   "metadata": {},
   "source": [
    "Problem 2"
   ]
  },
  {
   "cell_type": "code",
   "execution_count": 9,
   "id": "variable-tokyo",
   "metadata": {},
   "outputs": [],
   "source": [
    "# Cholesky that assumes PSD\n",
    "'''\n",
    "from numpy.linalg import cholesky, LinAlgError\n",
    "\n",
    "def chol_psd(matrix):\n",
    "    try:\n",
    "        return cholesky(matrix, lower=True)\n",
    "    except LinAlgError:\n",
    "        eigvals = np.linalg.eigvals(matrix)\n",
    "        eigvals[eigvals < 0] = 0\n",
    "        matrix = np.dot(np.dot(np.linalg.eigh(matrix)[1], np.diag(eigvals)), np.linalg.eigh(matrix)[1].T)\n",
    "        return cholesky(matrix, lower=True)\n",
    "'''\n",
    "\n",
    "def chol_psd(matrix):\n",
    "    n = matrix.shape[0]\n",
    "    L = np.zeros((n,n))\n",
    "    for i in range(n):\n",
    "        for j in range(i+1):\n",
    "            s = sum(L[i][k] * L[j][k] for k in range(j))\n",
    "            if (i == j):\n",
    "                L[i][j] = np.sqrt(matrix[i][i] - s)\n",
    "            else:\n",
    "                L[i][j] = (1.0 / L[j][j] * (matrix[i][j] - s))\n",
    "    return L"
   ]
  },
  {
   "cell_type": "code",
   "execution_count": 10,
   "id": "assumed-community",
   "metadata": {},
   "outputs": [],
   "source": [
    "# Near PSD Matrix\n",
    "def near_psd(matrix, epsilon=0):\n",
    "    n = matrix.shape[0]\n",
    "    eigenvalues, eigenvectors = np.linalg.eigh(matrix)\n",
    "    eigenvalues[eigenvalues < epsilon] = epsilon\n",
    "    matrix = eigenvectors @ np.diag(eigenvalues) @ eigenvectors.T\n",
    "    return matrix"
   ]
  },
  {
   "cell_type": "code",
   "execution_count": 11,
   "id": "parallel-homeless",
   "metadata": {},
   "outputs": [],
   "source": [
    "# Higham's 2002 nearest psd correlation function\n",
    "def higham(matrix):\n",
    "    eigenvalues, eigenvectors = np.linalg.eigh(matrix)\n",
    "    eigenvalues[eigenvalues < 0] = 0\n",
    "    matrix = eigenvectors @ np.diag(eigenvalues) @ eigenvectors.T\n",
    "    return matrix"
   ]
  },
  {
   "cell_type": "code",
   "execution_count": 12,
   "id": "smaller-taxation",
   "metadata": {},
   "outputs": [
    {
     "name": "stdout",
     "output_type": "stream",
     "text": [
      "Time taken by near_psd for N = 100 is: 0.0050067901611328125 seconds\n",
      "Time taken by higham for N = 100 is: 0.01562809944152832 seconds\n",
      "Time taken by near_psd for N = 200 is: 0.031242847442626953 seconds\n",
      "Time taken by higham for N = 200 is: 0.014013528823852539 seconds\n",
      "Time taken by near_psd for N = 300 is: 0.03125572204589844 seconds\n",
      "Time taken by higham for N = 300 is: 0.03125262260437012 seconds\n",
      "Time taken by near_psd for N = 400 is: 0.06341052055358887 seconds\n",
      "Time taken by higham for N = 400 is: 0.04788684844970703 seconds\n",
      "Time taken by near_psd for N = 500 is: 0.08752918243408203 seconds\n",
      "Time taken by higham for N = 500 is: 0.08101415634155273 seconds\n"
     ]
    }
   ],
   "source": [
    "# Generate a non-psd correlation matrix\n",
    "N = [100, 200, 300, 400, 500]\n",
    "near_psd_time = []\n",
    "higham_time = []\n",
    "\n",
    "for n in N:\n",
    "    sigma = np.full((n,n), 0.9)\n",
    "    for i in range(n):\n",
    "        sigma[i,i] = 1.0\n",
    "    sigma[1,2] = 0.7357\n",
    "    sigma[2,1] = 0.7357\n",
    "    \n",
    "    # Measure time for near_psd\n",
    "    start_time = time.time()\n",
    "    near_psd_matrix = near_psd(sigma)\n",
    "    near_psd_time.append(time.time() - start_time)\n",
    "    print(\"Time taken by near_psd for N =\", n, \"is:\", near_psd_time[-1], \"seconds\")\n",
    "    \n",
    "    # Measure time for higham\n",
    "    start_time = time.time()\n",
    "    higham_matrix = higham(sigma)\n",
    "    higham_time.append(time.time() - start_time)\n",
    "    print(\"Time taken by higham for N =\", n, \"is:\", higham_time[-1], \"seconds\")"
   ]
  },
  {
   "cell_type": "code",
   "execution_count": 13,
   "id": "brilliant-practice",
   "metadata": {},
   "outputs": [
    {
     "data": {
      "image/png": "[encoded data removed]",
      "text/plain": [
       "<Figure size 432x288 with 1 Axes>"
      ]
     },
     "metadata": {
      "needs_background": "light"
     },
     "output_type": "display_data"
    }
   ],
   "source": [
    "# Plot the results\n",
    "plt.plot(N, near_psd_time, '-o', label='near_psd')\n",
    "plt.plot(N, higham_time, '-o', label='higham')\n",
    "plt.xlabel('N')\n",
    "plt.ylabel('Run Time (s)')\n",
    "plt.legend()\n",
    "plt.show()"
   ]
  },
  {
   "cell_type": "code",
   "execution_count": 14,
   "id": "voluntary-genome",
   "metadata": {},
   "outputs": [
    {
     "name": "stdout",
     "output_type": "stream",
     "text": [
      "Is Near PSD Matrix PSD:  True\n",
      "Is Higham Matrix PSD:  True\n"
     ]
    }
   ],
   "source": [
    "# Confirm that the matrix is now PSD\n",
    "print(\"Is Near PSD Matrix PSD: \", np.all(np.linalg.eigvals(near_psd_matrix) > 0))\n",
    "print(\"Is Higham Matrix PSD: \", np.all(np.linalg.eigvals(higham_matrix) > 0))"
   ]
  },
  {
   "cell_type": "code",
   "execution_count": 15,
   "id": "loved-extension",
   "metadata": {},
   "outputs": [
    {
     "name": "stdout",
     "output_type": "stream",
     "text": [
      "Frobenius Norm Near PSD:  0.06364303890469009\n",
      "Frobenius Norm Higham:  0.06364303890469009\n"
     ]
    }
   ],
   "source": [
    "# Compare the results of both using the Frobenius Norm\n",
    "frobenius_norm_near_psd = np.linalg.norm(near_psd_matrix - sigma, 'fro')\n",
    "frobenius_norm_higham = np.linalg.norm(higham_matrix - sigma, 'fro')\n",
    "print(\"Frobenius Norm Near PSD: \", frobenius_norm_near_psd)\n",
    "print(\"Frobenius Norm Higham: \", frobenius_norm_higham)"
   ]
  },
  {
   "cell_type": "markdown",
   "id": "middle-youth",
   "metadata": {},
   "source": [
    "Problem 3"
   ]
  },
  {
   "cell_type": "code",
   "execution_count": 16,
   "id": "ethical-gibraltar",
   "metadata": {},
   "outputs": [],
   "source": [
    "# Import data\n",
    "df = pd.read_csv(\"DailyReturn.csv\")"
   ]
  },
  {
   "cell_type": "code",
   "execution_count": 17,
   "id": "final-conducting",
   "metadata": {},
   "outputs": [],
   "source": [
    "# Define functions for calculating the standard Pearson correlation and variance\n",
    "def pearson_correlation(df):\n",
    "    cov_matrix = np.cov(df.T)\n",
    "    cor_matrix = np.corrcoef(df.T)\n",
    "    return cor_matrix\n",
    "\n",
    "def variance(df):\n",
    "    var_vector = np.var(df, axis=0)\n",
    "    return var_vector"
   ]
  },
  {
   "cell_type": "code",
   "execution_count": 18,
   "id": "abandoned-colon",
   "metadata": {},
   "outputs": [],
   "source": [
    "# Define a function for exponentially weighted variance\n",
    "def exponential_weighted_variance(df, lam=0.97):\n",
    "    T = df.shape[0]\n",
    "    weights = np.exp(np.linspace(0, -(T-1), T)*np.log(lam))\n",
    "    weighted_var = np.average(df**2, axis=0, weights=weights)\n",
    "    return weighted_var"
   ]
  },
  {
   "cell_type": "code",
   "execution_count": 19,
   "id": "signed-walker",
   "metadata": {},
   "outputs": [],
   "source": [
    "# Calculate the standard Pearson correlation and variance\n",
    "cor_matrix_pearson = pearson_correlation(df.iloc[:, 1:])\n",
    "var_vector_pearson = variance(df.iloc[:, 1:])"
   ]
  },
  {
   "cell_type": "code",
   "execution_count": 20,
   "id": "sufficient-hygiene",
   "metadata": {},
   "outputs": [],
   "source": [
    "# Calculate the exponentially weighted variance\n",
    "var_vector_ew = exponential_weighted_variance(df.iloc[:, 1:])"
   ]
  },
  {
   "cell_type": "code",
   "execution_count": 21,
   "id": "multiple-brazil",
   "metadata": {},
   "outputs": [],
   "source": [
    "# Calculate 4 different covariance matrices\n",
    "cov_matrix_pearson_var = np.diag(var_vector_pearson)\n",
    "cov_matrix_pearson_ew = np.diag(var_vector_ew)\n",
    "cov_matrix_ew_var = cor_matrix_pearson * np.sqrt(np.outer(var_vector_ew, var_vector_ew))\n",
    "cov_matrix_ew_ew = cor_matrix_pearson * np.sqrt(np.outer(var_vector_ew, var_vector_ew)) * np.sqrt(np.outer(var_vector_ew, var_vector_ew))"
   ]
  },
  {
   "cell_type": "code",
   "execution_count": 22,
   "id": "meaningful-coverage",
   "metadata": {},
   "outputs": [],
   "source": [
    "# Define a function for direct simulation\n",
    "def direct_simulation(cov_matrix, num_draws=25000):\n",
    "    num_stocks = cov_matrix.shape[0]\n",
    "    mean = np.zeros(num_stocks)\n",
    "    draws = np.random.multivariate_normal(mean, cov_matrix, num_draws)\n",
    "    return draws"
   ]
  },
  {
   "cell_type": "code",
   "execution_count": 23,
   "id": "liberal-jacket",
   "metadata": {},
   "outputs": [],
   "source": [
    "# Define a function for PCA simulation\n",
    "def pca_simulation(cov_matrix, explained_variance=1.0, num_draws=25000):\n",
    "    num_stocks = cov_matrix.shape[0]\n",
    "    mean = np.zeros(num_stocks)\n",
    "    eigenvalues, eigenvectors = np.linalg.eig(cov_matrix)\n",
    "    indices = np.argsort(eigenvalues)[::-1]\n",
    "    eigenvalues = eigenvalues[indices]\n",
    "    eigenvectors = eigenvectors[:, indices]\n",
    "    eigenvalues = eigenvalues[:int(explained_variance*num_stocks)]\n",
    "    eigenvectors = eigenvectors[:, :int(explained_variance*num_stocks)]\n",
    "    sqrt_eigenvalues = np.sqrt(eigenvalues)\n",
    "    draws = np.dot(np.random.randn(num_draws, int(explained_variance*num_stocks)), np.diag(sqrt_eigenvalues))\n",
    "    draws = np.dot(draws, eigenvectors.T) + mean\n",
    "    return draws"
   ]
  },
  {
   "cell_type": "code",
   "execution_count": 24,
   "id": "crazy-husband",
   "metadata": {},
   "outputs": [],
   "source": [
    "# Read the data from the file\n",
    "returns = pd.read_csv(\"DailyReturn.csv\").iloc[:, 1:].values"
   ]
  },
  {
   "cell_type": "code",
   "execution_count": 25,
   "id": "spanish-bulgarian",
   "metadata": {},
   "outputs": [],
   "source": [
    "# Calculate the mean and standard deviation of the returns\n",
    "mean = np.mean(returns, axis=0)\n",
    "std = np.std(returns, axis=0)"
   ]
  },
  {
   "cell_type": "code",
   "execution_count": 26,
   "id": "declared-arlington",
   "metadata": {},
   "outputs": [],
   "source": [
    "# Standardize the returns\n",
    "returns = (returns - mean) / std"
   ]
  },
  {
   "cell_type": "code",
   "execution_count": 27,
   "id": "plain-holder",
   "metadata": {},
   "outputs": [],
   "source": [
    "# Calculate the covariance matrix using standard Pearson correlation\n",
    "cov_matrix_pearson = np.cov(returns.T)"
   ]
  },
  {
   "cell_type": "code",
   "execution_count": 28,
   "id": "hearing-relationship",
   "metadata": {},
   "outputs": [],
   "source": [
    "# Calculate the covariance matrix using exponentially weighted lambda = 0.97\n",
    "lambda_ = 0.97\n",
    "cov_matrix_ew = np.zeros(cov_matrix_pearson.shape)\n",
    "for i in range(cov_matrix_pearson.shape[0]):\n",
    "    for j in range(cov_matrix_pearson.shape[1]):\n",
    "        cov_matrix_ew[i, j] = lambda_ * cov_matrix_ew[i, j] + (1 - lambda_) * returns[:, i].T @ returns[:, j] / returns.shape[0]"
   ]
  },
  {
   "cell_type": "code",
   "execution_count": 29,
   "id": "inside-computer",
   "metadata": {},
   "outputs": [],
   "source": [
    "# Calculate the covariance matrix using both standard Pearson correlation and variance\n",
    "cov_matrix_pearson_var = np.diag(np.var(returns, axis=0))"
   ]
  },
  {
   "cell_type": "code",
   "execution_count": 30,
   "id": "prerequisite-salon",
   "metadata": {},
   "outputs": [],
   "source": [
    "# Calculate the covariance matrix using both exponentially weighted lambda = 0.97 and variance\n",
    "cov_matrix_ew_var = np.diag(np.var(returns, axis=0))"
   ]
  },
  {
   "cell_type": "code",
   "execution_count": 31,
   "id": "ecological-colombia",
   "metadata": {},
   "outputs": [],
   "source": [
    "# Define the four covariance matrices\n",
    "cov_matrices = [cov_matrix_pearson, cov_matrix_ew, cov_matrix_pearson_var, cov_matrix_ew_var]"
   ]
  },
  {
   "cell_type": "code",
   "execution_count": 32,
   "id": "fifteen-spider",
   "metadata": {},
   "outputs": [],
   "source": [
    "# Define the explained variance values for PCA simulations\n",
    "explained_variances = [1, 0.75, 0.5]"
   ]
  },
  {
   "cell_type": "code",
   "execution_count": 33,
   "id": "expressed-river",
   "metadata": {},
   "outputs": [],
   "source": [
    "# Define the number of draws for each simulation\n",
    "num_draws = 25000"
   ]
  },
  {
   "cell_type": "code",
   "execution_count": 34,
   "id": "automated-refrigerator",
   "metadata": {},
   "outputs": [
    {
     "name": "stdout",
     "output_type": "stream",
     "text": [
      "Covariance matrix  1\n",
      "Direct simulation time:  0.14704084396362305\n",
      "Covariance of simulated values:  [[1.01659226 0.66039028 0.72404274 ... 0.5157096  0.56280396 0.58966774]\n",
      " [0.66039028 1.02399189 0.62263706 ... 0.22065372 0.15357825 0.29417568]\n",
      " [0.72404274 0.62263706 1.00760944 ... 0.16983852 0.08782786 0.2555911 ]\n",
      " ...\n",
      " [0.5157096  0.22065372 0.16983852 ... 1.02432637 0.51545023 0.43235655]\n",
      " [0.56280396 0.15357825 0.08782786 ... 0.51545023 1.01084606 0.32812302]\n",
      " [0.58966774 0.29417568 0.2555911  ... 0.43235655 0.32812302 1.0092048 ]]\n",
      "Frobenius norm (difference between simulated and input covariance matrix):  0.5952032064753078\n",
      "PCA simulation with explained variance  1  time:  0.23853635787963867\n",
      "Covariance of simulated values:  [[1.01686823-2.64189078e-27j 0.65507524-8.22686315e-11j\n",
      "  0.72692972-1.42895503e-11j ... 0.51309024-1.35752385e-10j\n",
      "  0.56790018-1.12367817e-10j 0.59071933-1.33586511e-10j]\n",
      " [0.65507524+8.22686315e-11j 1.01147215-1.30133158e-27j\n",
      "  0.61651994+5.27405093e-11j ... 0.20905806+6.98350935e-12j\n",
      "  0.15410588-6.22790252e-11j 0.3006742 -8.31457432e-12j]\n",
      " [0.72692972+1.42895503e-11j 0.61651994-5.27405093e-11j\n",
      "  1.01874895-3.83054746e-28j ... 0.16839827+4.31406856e-11j\n",
      "  0.08668972-1.08337742e-10j 0.24684628+3.80878767e-11j]\n",
      " ...\n",
      " [0.51309024+1.35752385e-10j 0.20905806-6.98350935e-12j\n",
      "  0.16839827-4.31406856e-11j ... 1.0229126 +3.12500194e-27j\n",
      "  0.51733222+6.19025735e-11j 0.44590264+3.44930485e-11j]\n",
      " [0.56790018+1.12367817e-10j 0.15410588+6.22790252e-11j\n",
      "  0.08668972+1.08337742e-10j ... 0.51733222-6.19025735e-11j\n",
      "  1.02178191+3.00748330e-27j 0.33045949+5.46179364e-11j]\n",
      " [0.59071933+1.33586511e-10j 0.3006742 +8.31457432e-12j\n",
      "  0.24684628-3.80878767e-11j ... 0.44590264-3.44930485e-11j\n",
      "  0.33045949-5.46179364e-11j 1.03267616+0.00000000e+00j]]\n",
      "Frobenius norm (difference between simulated and input covariance matrix):  0.6316068618098137\n",
      "PCA simulation with explained variance  0.75  time:  0.17606210708618164\n",
      "Covariance of simulated values:  [[1.03696513+5.98649591e-28j 0.67709179-9.31541329e-12j\n",
      "  0.7402751 +1.73897692e-11j ... 0.51747772+3.68335649e-13j\n",
      "  0.58147115-3.78533617e-11j 0.59694945-2.40871268e-11j]\n",
      " [0.67709179+9.31541329e-12j 1.03422802+2.90000953e-28j\n",
      "  0.63376185-4.27481909e-11j ... 0.22635737+1.64746571e-11j\n",
      "  0.16533178+2.42808653e-11j 0.30344705-1.51596451e-11j]\n",
      " [0.7402751 -1.73897692e-11j 0.63376185+4.27481909e-11j\n",
      "  1.03013636+4.61310255e-29j ... 0.16874926-4.20103937e-11j\n",
      "  0.0948864 +6.98571159e-11j 0.25282786-1.68028442e-11j]\n",
      " ...\n",
      " [0.51747772-3.68335649e-13j 0.22635737-1.64746571e-11j\n",
      "  0.16874926+4.20103937e-11j ... 1.01885166+7.31038676e-28j\n",
      "  0.52010626-5.38019460e-11j 0.44452115-1.23752351e-11j]\n",
      " [0.58147115+3.78533617e-11j 0.16533178-2.42808653e-11j\n",
      "  0.0948864 -6.98571159e-11j ... 0.52010626+5.38019460e-11j\n",
      "  1.02912851+1.56242820e-28j 0.34770295+7.70926911e-12j]\n",
      " [0.59694945+2.40871268e-11j 0.30344705+1.51596451e-11j\n",
      "  0.25282786+1.68028442e-11j ... 0.44452115+1.23752351e-11j\n",
      "  0.34770295-7.70926911e-12j 1.01964843+0.00000000e+00j]]\n",
      "Frobenius norm (difference between simulated and input covariance matrix):  0.7594901738437911\n",
      "PCA simulation with explained variance  0.5  time:  0.15351414680480957\n",
      "Covariance of simulated values:  [[0.99846873+0.j 0.64862399+0.j 0.71151083+0.j ... 0.49595299+0.j\n",
      "  0.55499768+0.j 0.58364433+0.j]\n",
      " [0.64862399+0.j 0.99952564+0.j 0.62280728+0.j ... 0.20816884+0.j\n",
      "  0.15093166+0.j 0.29530477+0.j]\n",
      " [0.71151083+0.j 0.62280728+0.j 0.98957784+0.j ... 0.15221733+0.j\n",
      "  0.07549725+0.j 0.24606629+0.j]\n",
      " ...\n",
      " [0.49595299+0.j 0.20816884+0.j 0.15221733+0.j ... 1.00809758+0.j\n",
      "  0.51428498+0.j 0.43458182+0.j]\n",
      " [0.55499768+0.j 0.15093166+0.j 0.07549725+0.j ... 0.51428498+0.j\n",
      "  1.00869363+0.j 0.33210891+0.j]\n",
      " [0.58364433+0.j 0.29530477+0.j 0.24606629+0.j ... 0.43458182+0.j\n",
      "  0.33210891+0.j 1.01518532+0.j]]\n",
      "Frobenius norm (difference between simulated and input covariance matrix):  0.8058137841082783\n",
      "\n",
      "\n",
      "Covariance matrix  2\n",
      "Direct simulation time:  0.20729494094848633\n",
      "Covariance of simulated values:  [[0.02971095 0.01909048 0.02114547 ... 0.01510568 0.01690713 0.01722888]\n",
      " [0.01909048 0.02971599 0.0179119  ... 0.00641949 0.00475192 0.00873048]\n",
      " [0.02114547 0.0179119  0.0297914  ... 0.00494459 0.00274749 0.00740319]\n",
      " ...\n",
      " [0.01510568 0.00641949 0.00494459 ... 0.03020227 0.01520554 0.01304131]\n",
      " [0.01690713 0.00475192 0.00274749 ... 0.01520554 0.03018845 0.00967026]\n",
      " [0.01722888 0.00873048 0.00740319 ... 0.01304131 0.00967026 0.03010425]]\n",
      "Frobenius norm (difference between simulated and input covariance matrix):  0.017441456278470536\n",
      "PCA simulation with explained variance  1  time:  0.34786105155944824\n",
      "Covariance of simulated values:  [[0.02989102+1.73032964e-29j 0.0192628 +1.71081655e-13j\n",
      "  0.02114799+3.13020055e-12j ... 0.01507144+1.97905453e-12j\n",
      "  0.0167103 +3.42956969e-12j 0.01718314-1.66872052e-12j]\n",
      " [0.0192628 -1.71081655e-13j 0.02987459-9.95854412e-30j\n",
      "  0.01787354+6.70965995e-13j ... 0.00645166-1.35178732e-12j\n",
      "  0.00465224+5.61153008e-13j 0.00866376-1.02748038e-12j]\n",
      " [0.02114799-3.13020055e-12j 0.01787354-6.70965995e-13j\n",
      "  0.02951128-7.35109670e-29j ... 0.00498279-4.51077474e-12j\n",
      "  0.00256066-4.40371682e-12j 0.00720686+1.05516862e-12j]\n",
      " ...\n",
      " [0.01507144-1.97905453e-12j 0.00645166+1.35178732e-12j\n",
      "  0.00498279+4.51077474e-12j ... 0.02984237-8.81085808e-29j\n",
      "  0.01508556+1.03824899e-12j 0.01282429+3.35657322e-13j]\n",
      " [0.0167103 -3.42956969e-12j 0.00465224-5.61153008e-13j\n",
      "  0.00256066+4.40371682e-12j ... 0.01508556-1.03824899e-12j\n",
      "  0.02991834-9.76204312e-29j 0.00974062-1.23886595e-13j]\n",
      " [0.01718314+1.66872052e-12j 0.00866376+1.02748038e-12j\n",
      "  0.00720686-1.05516862e-12j ... 0.01282429-3.35657322e-13j\n",
      "  0.00974062+1.23886595e-13j 0.03008852+0.00000000e+00j]]\n",
      "Frobenius norm (difference between simulated and input covariance matrix):  0.01763301181300547\n",
      "PCA simulation with explained variance  0.75  time:  0.22252178192138672\n",
      "Covariance of simulated values:  [[0.02988034+4.27451481e-30j 0.01945422+1.51672225e-13j\n",
      "  0.02158558+9.01428805e-13j ... 0.01464906+2.14314407e-13j\n",
      "  0.01642135-6.78265383e-13j 0.01707878+6.08434399e-13j]\n",
      " [0.01945422-1.51672225e-13j 0.0303087 +9.28300751e-30j\n",
      "  0.0184761 -1.13066206e-13j ... 0.00619211+4.22394366e-13j\n",
      "  0.00446202+3.65598446e-13j 0.00883851-4.47189657e-14j]\n",
      " [0.02158558-9.01428805e-13j 0.0184761 +1.13066206e-13j\n",
      "  0.03020132+9.51201375e-31j ... 0.00489075+4.02252728e-13j\n",
      "  0.00249374+1.03138590e-12j 0.00731917+7.18389348e-13j]\n",
      " ...\n",
      " [0.01464906-2.14314407e-13j 0.00619211-4.22394366e-13j\n",
      "  0.00489075-4.02252728e-13j ... 0.02945234-3.96678832e-29j\n",
      "  0.01494016-3.27725832e-13j 0.01254712-1.43232093e-13j]\n",
      " [0.01642135+6.78265383e-13j 0.00446202-3.65598446e-13j\n",
      "  0.00249374-1.03138590e-12j ... 0.01494016+3.27725832e-13j\n",
      "  0.02975252+4.33780613e-29j 0.00951478-1.21231482e-12j]\n",
      " [0.01707878-6.08434399e-13j 0.00883851+4.47189657e-14j\n",
      "  0.00731917-7.18389348e-13j ... 0.01254712+1.43232093e-13j\n",
      "  0.00951478+1.21231482e-12j 0.0297129 +0.00000000e+00j]]\n",
      "Frobenius norm (difference between simulated and input covariance matrix):  0.020407089120870324\n",
      "PCA simulation with explained variance  0.5  time:  0.18028926849365234\n",
      "Covariance of simulated values:  [[0.03003954+0.j 0.01937223+0.j 0.021369  +0.j ... 0.01532779+0.j\n",
      "  0.01672072+0.j 0.01733126+0.j]\n",
      " [0.01937223+0.j 0.02956964+0.j 0.01822136+0.j ... 0.00673568+0.j\n",
      "  0.00470089+0.j 0.00860162+0.j]\n",
      " [0.021369  +0.j 0.01822136+0.j 0.02940708+0.j ... 0.00518726+0.j\n",
      "  0.00283436+0.j 0.00726937+0.j]\n",
      " ...\n",
      " [0.01532779+0.j 0.00673568+0.j 0.00518726+0.j ... 0.03040158+0.j\n",
      "  0.01515516+0.j 0.01312102+0.j]\n",
      " [0.01672072+0.j 0.00470089+0.j 0.00283436+0.j ... 0.01515516+0.j\n",
      "  0.02946553+0.j 0.00991853+0.j]\n",
      " [0.01733126+0.j 0.00860162+0.j 0.00726937+0.j ... 0.01312102+0.j\n",
      "  0.00991853+0.j 0.02998073+0.j]]\n",
      "Frobenius norm (difference between simulated and input covariance matrix):  0.02110697584039619\n",
      "\n",
      "\n",
      "Covariance matrix  3\n",
      "Direct simulation time:  0.12236905097961426\n",
      "Covariance of simulated values:  [[ 1.01543169e+00  4.14091454e-03  3.98486821e-03 ...  3.75318894e-03\n",
      "   5.55099337e-03 -8.93364330e-03]\n",
      " [ 4.14091454e-03  1.00339093e+00  1.44598751e-02 ...  1.10579274e-04\n",
      "  -3.25323332e-03  1.89560999e-04]\n",
      " [ 3.98486821e-03  1.44598751e-02  1.00085389e+00 ...  7.13425297e-03\n",
      "   9.19045692e-03 -1.72330666e-03]\n",
      " ...\n",
      " [ 3.75318894e-03  1.10579274e-04  7.13425297e-03 ...  1.00397711e+00\n",
      "   1.29853734e-03  2.50012430e-03]\n",
      " [ 5.55099337e-03 -3.25323332e-03  9.19045692e-03 ...  1.29853734e-03\n",
      "   1.00115024e+00  6.51979214e-03]\n",
      " [-8.93364330e-03  1.89560999e-04 -1.72330666e-03 ...  2.50012430e-03\n",
      "   6.51979214e-03  9.95584279e-01]]\n",
      "Frobenius norm (difference between simulated and input covariance matrix):  0.6431128824497887\n",
      "PCA simulation with explained variance  1  time:  0.14335179328918457\n",
      "Covariance of simulated values:  [[ 0.99830859 -0.00585538 -0.00490067 ...  0.00113327 -0.00164064\n",
      "  -0.01232136]\n",
      " [-0.00585538  0.9910534  -0.00168848 ... -0.00794671  0.0011935\n",
      "  -0.00529196]\n",
      " [-0.00490067 -0.00168848  1.01146876 ...  0.00767402 -0.01043415\n",
      "  -0.01418059]\n",
      " ...\n",
      " [ 0.00113327 -0.00794671  0.00767402 ...  1.00218461  0.00176408\n",
      "  -0.01089444]\n",
      " [-0.00164064  0.0011935  -0.01043415 ...  0.00176408  0.9845104\n",
      "   0.00822159]\n",
      " [-0.01232136 -0.00529196 -0.01418059 ... -0.01089444  0.00822159\n",
      "   0.99218334]]\n",
      "Frobenius norm (difference between simulated and input covariance matrix):  0.6445247167134411\n",
      "PCA simulation with explained variance  0.75  time:  0.10028934478759766\n",
      "Covariance of simulated values:  [[ 1.00195806e+00  6.01909188e-03 -4.19713333e-03 ... -5.12452105e-03\n",
      "   0.00000000e+00 -9.16880035e-03]\n",
      " [ 6.01909188e-03  1.01228108e+00  7.53832979e-04 ... -3.94113167e-03\n",
      "   0.00000000e+00  9.72508226e-03]\n",
      " [-4.19713333e-03  7.53832979e-04  9.96508020e-01 ... -4.17331208e-03\n",
      "   0.00000000e+00  2.53034680e-03]\n",
      " ...\n",
      " [-5.12452105e-03 -3.94113167e-03 -4.17331208e-03 ...  9.99046508e-01\n",
      "   0.00000000e+00  4.20935505e-03]\n",
      " [ 0.00000000e+00  0.00000000e+00  0.00000000e+00 ...  0.00000000e+00\n",
      "   0.00000000e+00  0.00000000e+00]\n",
      " [-9.16880035e-03  9.72508226e-03  2.53034680e-03 ...  4.20935505e-03\n",
      "   0.00000000e+00  9.92001578e-01]]\n",
      "Frobenius norm (difference between simulated and input covariance matrix):  5.122147400141064\n",
      "PCA simulation with explained variance  0.5  time:  0.08451557159423828\n",
      "Covariance of simulated values:  [[ 0.          0.          0.         ...  0.          0.\n",
      "   0.        ]\n",
      " [ 0.          1.00519358 -0.00772067 ...  0.          0.\n",
      "   0.        ]\n",
      " [ 0.         -0.00772067  1.0095491  ...  0.          0.\n",
      "   0.        ]\n",
      " ...\n",
      " [ 0.          0.          0.         ...  0.          0.\n",
      "   0.        ]\n",
      " [ 0.          0.          0.         ...  0.          0.\n",
      "   0.        ]\n",
      " [ 0.          0.          0.         ...  0.          0.\n",
      "   0.        ]]\n",
      "Frobenius norm (difference between simulated and input covariance matrix):  7.148296474830903\n",
      "\n",
      "\n",
      "Covariance matrix  4\n",
      "Direct simulation time:  0.10925602912902832\n",
      "Covariance of simulated values:  [[ 9.82200025e-01 -1.85156887e-04 -7.88233374e-03 ... -6.05742300e-03\n",
      "  -4.05009478e-03 -1.06179977e-02]\n",
      " [-1.85156887e-04  9.96877132e-01 -8.97389898e-05 ... -3.30149869e-03\n",
      "  -8.64927187e-03 -6.24083003e-03]\n",
      " [-7.88233374e-03 -8.97389898e-05  1.00632383e+00 ... -3.63234972e-03\n",
      "  -1.23720955e-03  1.49594713e-02]\n",
      " ...\n",
      " [-6.05742300e-03 -3.30149869e-03 -3.63234972e-03 ...  9.77710353e-01\n",
      "  -8.14056622e-04 -5.93796162e-03]\n",
      " [-4.05009478e-03 -8.64927187e-03 -1.23720955e-03 ... -8.14056622e-04\n",
      "   1.00892206e+00 -8.47648590e-03]\n",
      " [-1.06179977e-02 -6.24083003e-03  1.49594713e-02 ... -5.93796162e-03\n",
      "  -8.47648590e-03  9.99938569e-01]]\n",
      "Frobenius norm (difference between simulated and input covariance matrix):  0.6364151130930027\n",
      "PCA simulation with explained variance  1  time:  0.17186212539672852\n",
      "Covariance of simulated values:  [[ 1.00076578e+00  1.24687388e-03  7.55251816e-03 ... -6.96766665e-03\n",
      "  -8.54511477e-03  4.56453888e-03]\n",
      " [ 1.24687388e-03  9.90910764e-01  2.90549054e-04 ...  4.63578640e-03\n",
      "   1.21933291e-02 -4.98075254e-03]\n",
      " [ 7.55251816e-03  2.90549054e-04  1.01457279e+00 ... -2.49540876e-03\n",
      "  -1.07417827e-03  2.22819332e-03]\n",
      " ...\n",
      " [-6.96766665e-03  4.63578640e-03 -2.49540876e-03 ...  1.00953409e+00\n",
      "   1.43433373e-03 -1.34730639e-03]\n",
      " [-8.54511477e-03  1.21933291e-02 -1.07417827e-03 ...  1.43433373e-03\n",
      "   1.01764142e+00  4.22595796e-03]\n",
      " [ 4.56453888e-03 -4.98075254e-03  2.22819332e-03 ... -1.34730639e-03\n",
      "   4.22595796e-03  9.89666354e-01]]\n",
      "Frobenius norm (difference between simulated and input covariance matrix):  0.6442098906681244\n",
      "PCA simulation with explained variance  0.75  time:  0.11587953567504883\n",
      "Covariance of simulated values:  [[ 0.98747857 -0.01043313 -0.00104251 ...  0.00610422  0.\n",
      "   0.00489506]\n",
      " [-0.01043313  0.9960967  -0.01531939 ... -0.00365846  0.\n",
      "   0.0016824 ]\n",
      " [-0.00104251 -0.01531939  0.99331842 ...  0.00339237  0.\n",
      "  -0.01064831]\n",
      " ...\n",
      " [ 0.00610422 -0.00365846  0.00339237 ...  0.98930588  0.\n",
      "  -0.00427899]\n",
      " [ 0.          0.          0.         ...  0.          0.\n",
      "   0.        ]\n",
      " [ 0.00489506  0.0016824  -0.01064831 ... -0.00427899  0.\n",
      "   1.00529448]]\n",
      "Frobenius norm (difference between simulated and input covariance matrix):  5.120706430227097\n",
      "PCA simulation with explained variance  0.5  time:  0.09004878997802734\n",
      "Covariance of simulated values:  [[0.00000000e+00 0.00000000e+00 0.00000000e+00 ... 0.00000000e+00\n",
      "  0.00000000e+00 0.00000000e+00]\n",
      " [0.00000000e+00 9.82602015e-01 8.89478762e-04 ... 0.00000000e+00\n",
      "  0.00000000e+00 0.00000000e+00]\n",
      " [0.00000000e+00 8.89478762e-04 1.00155456e+00 ... 0.00000000e+00\n",
      "  0.00000000e+00 0.00000000e+00]\n",
      " ...\n",
      " [0.00000000e+00 0.00000000e+00 0.00000000e+00 ... 0.00000000e+00\n",
      "  0.00000000e+00 0.00000000e+00]\n",
      " [0.00000000e+00 0.00000000e+00 0.00000000e+00 ... 0.00000000e+00\n",
      "  0.00000000e+00 0.00000000e+00]\n",
      " [0.00000000e+00 0.00000000e+00 0.00000000e+00 ... 0.00000000e+00\n",
      "  0.00000000e+00 0.00000000e+00]]\n",
      "Frobenius norm (difference between simulated and input covariance matrix):  7.148522927433532\n",
      "\n",
      "\n"
     ]
    }
   ],
   "source": [
    "# Loop over the four covariance matrices\n",
    "for i, cov_matrix in enumerate(cov_matrices):\n",
    "    print(\"Covariance matrix \", i+1)\n",
    "    # Direct simulation\n",
    "    start_time = time.time()\n",
    "    draws = np.random.multivariate_normal(mean, cov_matrix, num_draws)\n",
    "    direct_sim_time = time.time() - start_time\n",
    "    cov_sim = np.cov(draws, rowvar=False)\n",
    "    norm = np.linalg.norm(cov_sim - cov_matrix, ord='fro')\n",
    "    print(\"Direct simulation time: \", direct_sim_time)\n",
    "    print(\"Covariance of simulated values: \", cov_sim)\n",
    "    print(\"Frobenius norm (difference between simulated and input covariance matrix): \", norm)\n",
    "    # Loop over the explained variances for PCA simulation\n",
    "    for j, explained_variance in enumerate(explained_variances):\n",
    "        start_time = time.time()\n",
    "        draws = pca_simulation(cov_matrix, explained_variance, num_draws)\n",
    "        pca_sim_time = time.time() - start_time\n",
    "        cov_sim = np.cov(draws, rowvar=False)\n",
    "        norm = np.linalg.norm(cov_sim - cov_matrix, ord='fro')\n",
    "        print(\"PCA simulation with explained variance \", explained_variance, \" time: \", pca_sim_time)\n",
    "        print(\"Covariance of simulated values: \", cov_sim)\n",
    "        print(\"Frobenius norm (difference between simulated and input covariance matrix): \", norm)\n",
    "    print(\"\\n\")"
   ]
  },
  {
   "cell_type": "code",
   "execution_count": null,
   "id": "chicken-restriction",
   "metadata": {},
   "outputs": [],
   "source": []
  }
 ],
 "metadata": {
  "kernelspec": {
   "display_name": "Python 3",
   "language": "python",
   "name": "python3"
  },
  "language_info": {
   "codemirror_mode": {
    "name": "ipython",
    "version": 3
   },
   "file_extension": ".py",
   "mimetype": "text/x-python",
   "name": "python",
   "nbconvert_exporter": "python",
   "pygments_lexer": "ipython3",
   "version": "3.9.1"
  }
 },
 "nbformat": 4,
 "nbformat_minor": 5
}
