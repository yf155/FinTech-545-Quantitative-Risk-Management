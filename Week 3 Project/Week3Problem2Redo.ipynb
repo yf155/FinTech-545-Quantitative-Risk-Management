{
 "cells": [
  {
   "cell_type": "markdown",
   "id": "hazardous-liver",
   "metadata": {},
   "source": [
    "Week 3 Project Problem 2"
   ]
  },
  {
   "cell_type": "code",
   "execution_count": 59,
   "id": "assigned-wisdom",
   "metadata": {},
   "outputs": [],
   "source": [
    "import numpy as np\n",
    "import matplotlib.pyplot as plt\n",
    "import time"
   ]
  },
  {
   "cell_type": "code",
   "execution_count": 60,
   "id": "signal-health",
   "metadata": {},
   "outputs": [],
   "source": [
    "# Implement chol_psd()\n",
    "\n",
    "def chol_psd(a):\n",
    "    n = a.shape[0]  # get the size of the matrix\n",
    "\n",
    "    root = np.zeros((n,n))  # initialize the root matrix with zeros\n",
    "\n",
    "    for j in range(n):\n",
    "        s = 0.0\n",
    "        \n",
    "        # calculate dot product of preceding row values if not on the first column\n",
    "        if j > 0:\n",
    "            s = np.dot(root[j, :j], root[j, :j])\n",
    "        \n",
    "        # calculate diagonal element\n",
    "        temp = a[j,j] - s\n",
    "        \n",
    "        # check for small negative values and set to zero\n",
    "        if temp <= 0 and abs(temp) < 1e-8:\n",
    "            temp = 0.0\n",
    "        \n",
    "        root[j,j] = np.sqrt(temp)  # set the diagonal element\n",
    "        \n",
    "        # check for zero eigenvalue and set the rest of the column to zero\n",
    "        if root[j,j] == 0.0:\n",
    "            root[j,(j+1):n] = 0.0\n",
    "        else:\n",
    "            ir = 1.0 / root[j,j]  # calculate reciprocal of diagonal element\n",
    "            for i in range(j+1,n):  # loop over remaining rows\n",
    "                s = np.dot(root[i, :j], root[j, :j])\n",
    "                root[i,j] = (a[i,j] - s) * ir  # update off-diagonal elements\n",
    "\n",
    "    return root\n",
    "\n"
   ]
  },
  {
   "cell_type": "code",
   "execution_count": 61,
   "id": "wanted-buddy",
   "metadata": {},
   "outputs": [],
   "source": [
    "# Implement near_psd()\n",
    "\n",
    "def near_psd(a, epsilon=0.0):\n",
    "    n = a.shape[0]  # get the size of the matrix\n",
    "\n",
    "    invSD = None\n",
    "    out = a.copy()\n",
    "\n",
    "    # calculate the correlation matrix if we have a covariance\n",
    "    if np.count_nonzero(np.isclose(np.diag(out), 1.0)) != n:\n",
    "        invSD = np.diag(1.0 / np.sqrt(np.diag(out)))\n",
    "        out = invSD @ out @ invSD\n",
    "\n",
    "    # SVD, update eigenvalues and scale\n",
    "    vals, vecs = np.linalg.eigh(out)\n",
    "    vals = np.maximum(vals, epsilon)\n",
    "    T = 1.0 / (vecs ** 2 @ vals)\n",
    "    T = np.sqrt(np.diag(T))\n",
    "    l = np.sqrt(np.diag(vals))\n",
    "    B = T @ vecs @ l\n",
    "    out = B @ B.T\n",
    "\n",
    "    # add back the variance\n",
    "    if invSD is not None:\n",
    "        invSD = np.diag(1.0 / np.diag(invSD))\n",
    "        out = invSD @ out @ invSD\n",
    "\n",
    "    return out"
   ]
  },
  {
   "cell_type": "code",
   "execution_count": 62,
   "id": "higher-poland",
   "metadata": {},
   "outputs": [],
   "source": [
    "# Generate a non-psd correlation matrix that is 500*500\n",
    "n = 500\n",
    "sigma = np.full((n,n), 0.9)\n",
    "np.fill_diagonal(sigma, 1.0)\n",
    "sigma[0,1] = 0.7357\n",
    "sigma[1,0] = 0.7357\n",
    "\n",
    "# make sure the resulting matrix is symmetric\n",
    "sigma = (sigma + sigma.T) / 2"
   ]
  },
  {
   "cell_type": "code",
   "execution_count": 63,
   "id": "manufactured-asthma",
   "metadata": {},
   "outputs": [],
   "source": [
    "# The first projection for Higham method with the assumption that weight martrix is diagonal\n",
    "def Pu(matrix):\n",
    "    result = matrix.copy()\n",
    "    for i in range(len(matrix)):\n",
    "        for j in range(len(matrix[0])):\n",
    "            if i==j:\n",
    "                result[i][i]=1\n",
    "    return result\n",
    "\n",
    "# The second projection for Higham method\n",
    "def Ps(matrix, weight):\n",
    "    matrix = np.sqrt(weight)@ matrix @np.sqrt(weight)\n",
    "    vals, vecs = np.linalg.eigh(matrix)\n",
    "    vals = np.array([max(i,0) for i in vals])\n",
    "    result = np.sqrt(weight)@ vecs @ np.diagflat(vals) @ vecs.T @ np.sqrt(weight)\n",
    "    return result\n",
    "\n",
    "def Frobenius_Norm(matrix_1, matrix_2):\n",
    "    distance = matrix_1 - matrix_2\n",
    "    result = 0\n",
    "    for i in range(len(distance)):\n",
    "        for j in range(len(distance)):\n",
    "            result += distance[i][j]**2\n",
    "    return result\n",
    "\n",
    "# Implement Higham's method\n",
    "def Higham_psd(matrix, weight = None, epsilon = 1e-9, max_iter = 1000, tolerance = 1e-8):\n",
    "\n",
    "    if weight is None:\n",
    "        weight = np.identity(len(matrix))\n",
    "        \n",
    "    norml = np.inf\n",
    "    Yk = matrix.copy()\n",
    "    Delta_S = np.zeros_like(Yk)\n",
    "    \n",
    "    invSD = None\n",
    "    if np.count_nonzero(np.diag(Yk) == 1.0) != matrix.shape[0]:\n",
    "        invSD = np.diag(1 / np.sqrt(np.diag(Yk)))\n",
    "        Yk = np.matmul(np.matmul(invSD, Yk), invSD)\n",
    "    \n",
    "    Y0 = Yk.copy()\n",
    "\n",
    "    for i in range(max_iter):\n",
    "        Rk = Yk - Delta_S\n",
    "        Xk = Ps(Rk, weight)\n",
    "        Delta_S = Xk - Rk\n",
    "        Yk = Pu(Xk)\n",
    "        norm = Frobenius_Norm(Yk, Y0)\n",
    "        minEigVal = np.real(np.linalg.eigvals(Yk)).min()\n",
    "        if abs(norm - norml) < tolerance and minEigVal > -epsilon:\n",
    "            break\n",
    "        else:\n",
    "            norml = norm\n",
    "    \n",
    "    if invSD is not None:\n",
    "        invSD = np.diag(1 / np.diag(invSD))\n",
    "        Yk = np.matmul(np.matmul(invSD, Yk), invSD)\n",
    "    return Yk"
   ]
  },
  {
   "cell_type": "code",
   "execution_count": 64,
   "id": "passive-camcorder",
   "metadata": {},
   "outputs": [],
   "source": [
    "# Use Higham's method to fix the matrix\n",
    "sigma_fixed = Higham_psd(sigma)\n",
    "\n",
    "# Use near_psd to fix the matrix \n",
    "sigma_fixed = near_psd(sigma_fixed)\n"
   ]
  },
  {
   "cell_type": "code",
   "execution_count": 65,
   "id": "prepared-supply",
   "metadata": {},
   "outputs": [],
   "source": [
    "# Test whether a matrix is psd or not\n",
    "def is_psd(matrix):\n",
    "    eigenvalues = np.linalg.eigh(matrix)[0]\n",
    "    return np.all(eigenvalues >= -1e-8)"
   ]
  },
  {
   "cell_type": "code",
   "execution_count": 66,
   "id": "equivalent-worry",
   "metadata": {},
   "outputs": [
    {
     "name": "stdout",
     "output_type": "stream",
     "text": [
      "Original matrix:  False\n",
      "Matrix fixed with near_psd():  True\n",
      "Matrix fixed with Higham_psd():  True\n"
     ]
    }
   ],
   "source": [
    "# Confirm the matrix is now PSD\n",
    "print(\"Original matrix: \", is_psd(sigma))\n",
    "print(\"Matrix fixed with near_psd(): \", is_psd(near_psd(sigma)))\n",
    "print(\"Matrix fixed with Higham_psd(): \", is_psd(Higham_psd(sigma)))"
   ]
  },
  {
   "cell_type": "code",
   "execution_count": 69,
   "id": "confident-stanley",
   "metadata": {},
   "outputs": [
    {
     "data": {
      "image/png": "[encoded data removed]",
      "text/plain": [
       "<Figure size 432x288 with 1 Axes>"
      ]
     },
     "metadata": {
      "needs_background": "light"
     },
     "output_type": "display_data"
    }
   ],
   "source": [
    "# Compare the results of both using the Frobenius Norm\n",
    "n_range = np.arange(20, 500, 50)\n",
    "frobenius_norms_near = []\n",
    "frobenius_norms_higham = []\n",
    "for n_current in n_range:\n",
    "    sigma_current = sigma[:n_current, :n_current]\n",
    "    sigma_fixed_near = near_psd(sigma_current)\n",
    "    frobenius_norm_near = Frobenius_Norm(sigma_current, sigma_fixed_near)\n",
    "    frobenius_norms_near.append(frobenius_norm_near)\n",
    "    \n",
    "    sigma_fixed_higham = Higham_psd(sigma_current)\n",
    "    frobenius_norm_higham = Frobenius_Norm(sigma_current, sigma_fixed_higham)\n",
    "    frobenius_norms_higham.append(frobenius_norm_higham)\n",
    "\n",
    "\n",
    "plt.plot(n_range, frobenius_norms_near, label='near_psd')\n",
    "plt.plot(n_range, frobenius_norms_higham, label='Higham_psd')\n",
    "plt.xlabel('N')\n",
    "plt.ylabel('Frobenius Norm')\n",
    "plt.title('Results of Frobenius Norm as N increases')\n",
    "plt.legend()\n",
    "plt.show()"
   ]
  },
  {
   "cell_type": "code",
   "execution_count": 68,
   "id": "divine-casting",
   "metadata": {},
   "outputs": [
    {
     "data": {
      "image/png": "[encoded data removed]",
      "text/plain": [
       "<Figure size 432x288 with 1 Axes>"
      ]
     },
     "metadata": {
      "needs_background": "light"
     },
     "output_type": "display_data"
    }
   ],
   "source": [
    "# Compare the run time between the two\n",
    "n_range = np.arange(20, 500, 50)\n",
    "time_near_psd = []\n",
    "time_higham_psd = []\n",
    "for n_current in n_range:\n",
    "    sigma_current = sigma[:n_current, :n_current]\n",
    "    \n",
    "    start_time = time.time()\n",
    "    sigma_fixed_near = near_psd(sigma_current)\n",
    "    time_near = time.time() - start_time\n",
    "    time_near_psd.append(time_near)\n",
    "    \n",
    "    start_time = time.time()\n",
    "    sigma_fixed_higham = Higham_psd(sigma_current)\n",
    "    time_higham = time.time() - start_time\n",
    "    time_higham_psd.append(time_higham)\n",
    "\n",
    "plt.plot(n_range, time_near_psd, label='near_psd')\n",
    "plt.plot(n_range, time_higham_psd, label='Higham_psd')\n",
    "plt.xlabel('N')\n",
    "plt.ylabel('Run time (s)')\n",
    "plt.title('Results of run time as N increases')\n",
    "plt.legend()\n",
    "plt.show()"
   ]
  }
 ],
 "metadata": {
  "kernelspec": {
   "display_name": "Python 3",
   "language": "python",
   "name": "python3"
  },
  "language_info": {
   "codemirror_mode": {
    "name": "ipython",
    "version": 3
   },
   "file_extension": ".py",
   "mimetype": "text/x-python",
   "name": "python",
   "nbconvert_exporter": "python",
   "pygments_lexer": "ipython3",
   "version": "3.9.1"
  }
 },
 "nbformat": 4,
 "nbformat_minor": 5
}
